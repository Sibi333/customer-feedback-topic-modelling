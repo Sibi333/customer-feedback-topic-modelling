{
 "cells": [
  {
   "cell_type": "markdown",
   "metadata": {},
   "source": [
    "# Topic modelling - LDA"
   ]
  },
  {
   "cell_type": "markdown",
   "metadata": {},
   "source": [
    "## Import libraries "
   ]
  },
  {
   "cell_type": "code",
   "execution_count": 2,
   "metadata": {},
   "outputs": [],
   "source": [
    "import pandas as pd\n",
    "import numpy as np\n",
    "import matplotlib.pyplot as plt \n",
    "%matplotlib inline\n",
    "import warnings \n",
    "warnings.filterwarnings(\"ignore\")"
   ]
  },
  {
   "cell_type": "code",
   "execution_count": 3,
   "metadata": {},
   "outputs": [],
   "source": [
    "import re\n",
    "from sklearn.feature_extraction.text import TfidfVectorizer, CountVectorizer\n",
    "from sklearn.decomposition import LatentDirichletAllocation as LDA\n",
    "from sklearn.feature_extraction import text"
   ]
  },
  {
   "cell_type": "code",
   "execution_count": 1,
   "metadata": {},
   "outputs": [],
   "source": [
    "# Libraries to connect to oracle database\n",
    "import cx_Oracle as orc\n",
    "import os\n",
    "from sqlalchemy import types, create_engine"
   ]
  },
  {
   "cell_type": "markdown",
   "metadata": {},
   "source": [
    "## Import data"
   ]
  },
  {
   "cell_type": "code",
   "execution_count": 13,
   "metadata": {},
   "outputs": [],
   "source": [
    "# Make DSN address\n",
    "dsn = orc.makedsn('hostname', 'port', service_name='servicename')\n",
    "# Connect to DSN\n",
    "conn = orc.connect(user='username', password='password', dsn=dsn)"
   ]
  },
  {
   "cell_type": "code",
   "execution_count": 14,
   "metadata": {},
   "outputs": [],
   "source": [
    "sql_query = \"\"\"SELECT \n",
    "  RESPONSE_ID,\n",
    "  DATE_SUBMITTED,\n",
    "  NPS_RATING,\n",
    "  NPS_COMMENT,\n",
    "  FEEDBACK\n",
    "FROM\n",
    "  \"DATABASE_NAME\".\"TABLE_NAME\"\n",
    "WHERE\n",
    "  DATE_SUBMITTED >= TO_DATE('01.11.18', 'DD.MM.YY') AND\n",
    "  DATE_SUBMITTED <= TO_DATE('30.11.18', 'DD.MM.YY')\"\"\""
   ]
  },
  {
   "cell_type": "code",
   "execution_count": 15,
   "metadata": {},
   "outputs": [],
   "source": [
    "# Read database table into dataframe \n",
    "original_text_df = pd.read_sql(sql_query, conn)"
   ]
  },
  {
   "cell_type": "code",
   "execution_count": 16,
   "metadata": {},
   "outputs": [],
   "source": [
    "text_df = original_text_df.copy()"
   ]
  },
  {
   "cell_type": "code",
   "execution_count": 17,
   "metadata": {},
   "outputs": [
    {
     "data": {
      "text/html": [
       "<div>\n",
       "<style scoped>\n",
       "    .dataframe tbody tr th:only-of-type {\n",
       "        vertical-align: middle;\n",
       "    }\n",
       "\n",
       "    .dataframe tbody tr th {\n",
       "        vertical-align: top;\n",
       "    }\n",
       "\n",
       "    .dataframe thead th {\n",
       "        text-align: right;\n",
       "    }\n",
       "</style>\n",
       "<table border=\"1\" class=\"dataframe\">\n",
       "  <thead>\n",
       "    <tr style=\"text-align: right;\">\n",
       "      <th></th>\n",
       "      <th>RESPONSE_ID</th>\n",
       "      <th>DATE_SUBMITTED</th>\n",
       "      <th>NPS_RATING</th>\n",
       "      <th>NPS_COMMENT</th>\n",
       "      <th>FEEDBACK</th>\n",
       "    </tr>\n",
       "  </thead>\n",
       "  <tbody>\n",
       "    <tr>\n",
       "      <th>0</th>\n",
       "      <td>133294</td>\n",
       "      <td>2018-01-11 00:01:35</td>\n",
       "      <td>10.0</td>\n",
       "      <td>NaN</td>\n",
       "      <td>N / A</td>\n",
       "    </tr>\n",
       "    <tr>\n",
       "      <th>1</th>\n",
       "      <td>133295</td>\n",
       "      <td>2018-01-11 13:19:07</td>\n",
       "      <td>8.0</td>\n",
       "      <td>NaN</td>\n",
       "      <td>N / A</td>\n",
       "    </tr>\n",
       "    <tr>\n",
       "      <th>2</th>\n",
       "      <td>133296</td>\n",
       "      <td>2018-01-11 00:40:47</td>\n",
       "      <td>8.0</td>\n",
       "      <td>NaN</td>\n",
       "      <td>N / A</td>\n",
       "    </tr>\n",
       "    <tr>\n",
       "      <th>3</th>\n",
       "      <td>133297</td>\n",
       "      <td>2018-01-11 00:41:36</td>\n",
       "      <td>4.0</td>\n",
       "      <td>keine Lieferkosten</td>\n",
       "      <td>no delivery costs</td>\n",
       "    </tr>\n",
       "    <tr>\n",
       "      <th>4</th>\n",
       "      <td>133298</td>\n",
       "      <td>2018-01-11 00:42:42</td>\n",
       "      <td>NaN</td>\n",
       "      <td>NaN</td>\n",
       "      <td>N / A</td>\n",
       "    </tr>\n",
       "  </tbody>\n",
       "</table>\n",
       "</div>"
      ],
      "text/plain": [
       "   RESPONSE_ID      DATE_SUBMITTED  NPS_RATING         NPS_COMMENT  \\\n",
       "0       133294 2018-01-11 00:01:35        10.0                 NaN   \n",
       "1       133295 2018-01-11 13:19:07         8.0                 NaN   \n",
       "2       133296 2018-01-11 00:40:47         8.0                 NaN   \n",
       "3       133297 2018-01-11 00:41:36         4.0  keine Lieferkosten   \n",
       "4       133298 2018-01-11 00:42:42         NaN                 NaN   \n",
       "\n",
       "            FEEDBACK  \n",
       "0              N / A  \n",
       "1              N / A  \n",
       "2              N / A  \n",
       "3  no delivery costs  \n",
       "4              N / A  "
      ]
     },
     "execution_count": 17,
     "metadata": {},
     "output_type": "execute_result"
    }
   ],
   "source": [
    "text_df.head()"
   ]
  },
  {
   "cell_type": "code",
   "execution_count": 19,
   "metadata": {},
   "outputs": [
    {
     "name": "stdout",
     "output_type": "stream",
     "text": [
      "<class 'pandas.core.frame.DataFrame'>\n",
      "RangeIndex: 32623 entries, 0 to 32622\n",
      "Data columns (total 5 columns):\n",
      "RESPONSE_ID       32623 non-null int64\n",
      "DATE_SUBMITTED    32623 non-null datetime64[ns]\n",
      "NPS_RATING        29193 non-null float64\n",
      "NPS_COMMENT       6254 non-null object\n",
      "FEEDBACK          32614 non-null object\n",
      "dtypes: datetime64[ns](1), float64(1), int64(1), object(2)\n",
      "memory usage: 1.2+ MB\n"
     ]
    }
   ],
   "source": [
    "text_df.info()"
   ]
  },
  {
   "cell_type": "markdown",
   "metadata": {},
   "source": [
    "Among the 32623 feedback present in the dataset, only 6254 feedback has text comment in it"
   ]
  },
  {
   "cell_type": "code",
   "execution_count": 20,
   "metadata": {},
   "outputs": [],
   "source": [
    "text_df = text_df.drop(['RESPONSE_ID'], axis=1)"
   ]
  },
  {
   "cell_type": "code",
   "execution_count": 21,
   "metadata": {},
   "outputs": [],
   "source": [
    "text_df['DATE_SUBMITTED'] = text_df['DATE_SUBMITTED'].dt.date"
   ]
  },
  {
   "cell_type": "markdown",
   "metadata": {},
   "source": [
    "## Retain feedback that contain text data "
   ]
  },
  {
   "cell_type": "code",
   "execution_count": 23,
   "metadata": {},
   "outputs": [],
   "source": [
    "text_df = text_df.dropna(subset=['FEEDBACK'])"
   ]
  },
  {
   "cell_type": "code",
   "execution_count": 24,
   "metadata": {},
   "outputs": [],
   "source": [
    "text_df = text_df[text_df['FEEDBACK']!='N / A']"
   ]
  },
  {
   "cell_type": "code",
   "execution_count": 25,
   "metadata": {},
   "outputs": [
    {
     "data": {
      "text/html": [
       "<div>\n",
       "<style scoped>\n",
       "    .dataframe tbody tr th:only-of-type {\n",
       "        vertical-align: middle;\n",
       "    }\n",
       "\n",
       "    .dataframe tbody tr th {\n",
       "        vertical-align: top;\n",
       "    }\n",
       "\n",
       "    .dataframe thead th {\n",
       "        text-align: right;\n",
       "    }\n",
       "</style>\n",
       "<table border=\"1\" class=\"dataframe\">\n",
       "  <thead>\n",
       "    <tr style=\"text-align: right;\">\n",
       "      <th></th>\n",
       "      <th>DATE_SUBMITTED</th>\n",
       "      <th>NPS_RATING</th>\n",
       "      <th>NPS_COMMENT</th>\n",
       "      <th>FEEDBACK</th>\n",
       "    </tr>\n",
       "  </thead>\n",
       "  <tbody>\n",
       "    <tr>\n",
       "      <th>32603</th>\n",
       "      <td>2018-11-30</td>\n",
       "      <td>6.0</td>\n",
       "      <td>wenn ich im Pax Planer eine Bestellung aufgeben mÃ¶chte, ist der Ãbergang zum Warenkorb sehr nervenaufreibend. ich habe mehrere AnlÃ¤ufe gebraucht, bis es geklappt hat. - bei mehreren Aktionen im Pax Planer ist die Ãbersicht sehr undeutlich, welche Artikel nun im Warenkorb sind und welche nich...</td>\n",
       "      <td>If I want to place an order in the Pax Planner, the transition to shopping cart is very nerve-wracking. It took me several tries to get it to work. - With several actions in the Pax Planner the overview is very unclear, which articles are in the shopping cart and which are not. the colors for th...</td>\n",
       "    </tr>\n",
       "    <tr>\n",
       "      <th>32604</th>\n",
       "      <td>2018-11-30</td>\n",
       "      <td>8.0</td>\n",
       "      <td>Eine kleinschrittigere Kategorisierung</td>\n",
       "      <td>A smaller step categorization</td>\n",
       "    </tr>\n",
       "    <tr>\n",
       "      <th>32610</th>\n",
       "      <td>2018-11-30</td>\n",
       "      <td>NaN</td>\n",
       "      <td>bis jetzt zufrieden í ½í¸</td>\n",
       "      <td>satisfied until now</td>\n",
       "    </tr>\n",
       "    <tr>\n",
       "      <th>32613</th>\n",
       "      <td>2018-11-30</td>\n",
       "      <td>8.0</td>\n",
       "      <td>Kauf per PayPal ging nicht, lÃ¤dt wahrscheinlich immer noch</td>\n",
       "      <td>Purchase via PayPal did not work, probably still loads</td>\n",
       "    </tr>\n",
       "    <tr>\n",
       "      <th>32617</th>\n",
       "      <td>2018-11-30</td>\n",
       "      <td>7.0</td>\n",
       "      <td>Bezahlmethoden, bei Klarna ist es wirklich sehr umstÃ¤ndlich auf den Geburtstag zu kommen. Das macht keinen SpaÃ.</td>\n",
       "      <td>Payment methods, at Klarna it is really very awkward to come on the birthday. That&amp;#39;s not fun.</td>\n",
       "    </tr>\n",
       "  </tbody>\n",
       "</table>\n",
       "</div>"
      ],
      "text/plain": [
       "      DATE_SUBMITTED  NPS_RATING  \\\n",
       "32603     2018-11-30         6.0   \n",
       "32604     2018-11-30         8.0   \n",
       "32610     2018-11-30         NaN   \n",
       "32613     2018-11-30         8.0   \n",
       "32617     2018-11-30         7.0   \n",
       "\n",
       "                                                                                                                                                                                                                                                                                                       NPS_COMMENT  \\\n",
       "32603  wenn ich im Pax Planer eine Bestellung aufgeben mÃ¶chte, ist der Ãbergang zum Warenkorb sehr nervenaufreibend. ich habe mehrere AnlÃ¤ufe gebraucht, bis es geklappt hat. - bei mehreren Aktionen im Pax Planer ist die Ãbersicht sehr undeutlich, welche Artikel nun im Warenkorb sind und welche nich...   \n",
       "32604                                                                                                                                                                                                                                                                       Eine kleinschrittigere Kategorisierung   \n",
       "32610                                                                                                                                                                                                                                                                                  bis jetzt zufrieden í ½í¸    \n",
       "32613                                                                                                                                                                                                                                                  Kauf per PayPal ging nicht, lÃ¤dt wahrscheinlich immer noch   \n",
       "32617                                                                                                                                                                                          Bezahlmethoden, bei Klarna ist es wirklich sehr umstÃ¤ndlich auf den Geburtstag zu kommen. Das macht keinen SpaÃ.    \n",
       "\n",
       "                                                                                                                                                                                                                                                                                                          FEEDBACK  \n",
       "32603  If I want to place an order in the Pax Planner, the transition to shopping cart is very nerve-wracking. It took me several tries to get it to work. - With several actions in the Pax Planner the overview is very unclear, which articles are in the shopping cart and which are not. the colors for th...  \n",
       "32604                                                                                                                                                                                                                                                                                A smaller step categorization  \n",
       "32610                                                                                                                                                                                                                                                                                          satisfied until now  \n",
       "32613                                                                                                                                                                                                                                                       Purchase via PayPal did not work, probably still loads  \n",
       "32617                                                                                                                                                                                                            Payment methods, at Klarna it is really very awkward to come on the birthday. That&#39;s not fun.  "
      ]
     },
     "execution_count": 25,
     "metadata": {},
     "output_type": "execute_result"
    }
   ],
   "source": [
    "pd.set_option(\"display.max_colwidth\", 300)\n",
    "text_df.tail(5)"
   ]
  },
  {
   "cell_type": "code",
   "execution_count": 35,
   "metadata": {},
   "outputs": [],
   "source": [
    "text_df1 = text_df.copy()"
   ]
  },
  {
   "cell_type": "markdown",
   "metadata": {},
   "source": [
    "## Remove punctuation and conversion to lowercase"
   ]
  },
  {
   "cell_type": "code",
   "execution_count": 36,
   "metadata": {},
   "outputs": [
    {
     "data": {
      "text/plain": [
       "3                                                                                                                              no delivery costs\n",
       "5                                                                                      if more items could be bought online i would buy more :-)\n",
       "6                                                                                                                                    the clarity\n",
       "11                                                                                                                                     all right\n",
       "13                                                                                                                         shorter delivery time\n",
       "15                                                                                                                more and faster delivery times\n",
       "20                                                                               other payment options such as sofortüberweisung or direct debit\n",
       "22                                                                                                     better show the optional accessory option\n",
       "30                                                                                                                     narrow your search better\n",
       "31    compress the selection of each product so that with an article equal color selection and size is indicated and not all individually listed\n",
       "Name: FEEDBACK_PROCESSED, dtype: object"
      ]
     },
     "execution_count": 36,
     "metadata": {},
     "output_type": "execute_result"
    }
   ],
   "source": [
    "text_df1['FEEDBACK_PROCESSED'] = text_df1['FEEDBACK'].map(lambda x: re.sub('[,\\.!?]', '', x))\n",
    "text_df1['FEEDBACK_PROCESSED'] = text_df1['FEEDBACK_PROCESSED'].map(lambda x: x.lower())\n",
    "text_df1['FEEDBACK_PROCESSED'].head(10)"
   ]
  },
  {
   "cell_type": "markdown",
   "metadata": {},
   "source": [
    "## Transform text data using CountVectorizer"
   ]
  },
  {
   "cell_type": "code",
   "execution_count": 37,
   "metadata": {},
   "outputs": [],
   "source": [
    "my_stop_words = text.ENGLISH_STOP_WORDS.union(['quot', '39'])"
   ]
  },
  {
   "cell_type": "code",
   "execution_count": 38,
   "metadata": {},
   "outputs": [],
   "source": [
    "count_vectorizer = CountVectorizer(max_df=0.8, min_df=2, stop_words=my_stop_words)"
   ]
  },
  {
   "cell_type": "code",
   "execution_count": 39,
   "metadata": {},
   "outputs": [],
   "source": [
    "count_data = count_vectorizer.fit_transform(text_df1['FEEDBACK_PROCESSED'])"
   ]
  },
  {
   "cell_type": "markdown",
   "metadata": {},
   "source": [
    "## LDA"
   ]
  },
  {
   "cell_type": "code",
   "execution_count": 40,
   "metadata": {},
   "outputs": [],
   "source": [
    "def print_topics(model, count_vectorizer, n_top_words):\n",
    "    words = count_vectorizer.get_feature_names()\n",
    "    for topic_idx, topic in enumerate(model.components_):\n",
    "        print(\"\\nTopic #%d:\" % topic_idx)\n",
    "        print(\", \".join([words[i] for i in topic.argsort()[:-n_top_words - 1:-1]]))"
   ]
  },
  {
   "cell_type": "code",
   "execution_count": 41,
   "metadata": {},
   "outputs": [
    {
     "name": "stderr",
     "output_type": "stream",
     "text": [
      "C:\\ProgramData\\Anaconda3\\lib\\site-packages\\sklearn\\decomposition\\online_lda.py:536: DeprecationWarning: The default value for 'learning_method' will be changed from 'online' to 'batch' in the release 0.20. This warning was introduced in 0.18.\n",
      "  DeprecationWarning)\n"
     ]
    },
    {
     "name": "stdout",
     "output_type": "stream",
     "text": [
      "\n",
      "Topic #0:\n",
      "clear, perfect, options, payment, direct, need, furniture, debit, search, white\n",
      "\n",
      "Topic #1:\n",
      "work, search, did, ok, better, does, paypal, function, forwarding, different\n",
      "\n",
      "Topic #2:\n",
      "payment, card, account, ikea, family, number, complicated, credit, code, telephone\n",
      "\n",
      "Topic #3:\n",
      "great, cart, shopping, date, pax, planner, click, enter, order, collect\n",
      "\n",
      "Topic #4:\n",
      "online, shop, available, products, product, ikea, articles, article, ordered, nice\n",
      "\n",
      "Topic #5:\n",
      "delivery, time, long, pay, order, service, customer, purchase, ordering, possible\n",
      "\n",
      "Topic #6:\n",
      "just, order, think, like, make, buy, online, offer, better, directly\n",
      "\n",
      "Topic #7:\n",
      "shipping, costs, delivery, free, high, order, cheaper, value, small, bit\n",
      "\n",
      "Topic #8:\n",
      "items, order, ikea, store, online, furniture, far, expensive, wanted, transfer\n",
      "\n",
      "Topic #9:\n",
      "delivery, good, faster, times, goods, time, bad, satisfied, easy, displayed\n"
     ]
    }
   ],
   "source": [
    "number_topics = 10\n",
    "number_words = 10\n",
    "\n",
    "lda = LDA(n_components=number_topics,n_jobs =-1)\n",
    "lda.fit(count_data)\n",
    "print_topics(lda, count_vectorizer, number_words)"
   ]
  },
  {
   "cell_type": "markdown",
   "metadata": {},
   "source": [
    "### Finding the highest probable topic from the feedback "
   ]
  },
  {
   "cell_type": "code",
   "execution_count": 42,
   "metadata": {},
   "outputs": [
    {
     "data": {
      "text/html": [
       "<div>\n",
       "<style scoped>\n",
       "    .dataframe tbody tr th:only-of-type {\n",
       "        vertical-align: middle;\n",
       "    }\n",
       "\n",
       "    .dataframe tbody tr th {\n",
       "        vertical-align: top;\n",
       "    }\n",
       "\n",
       "    .dataframe thead th {\n",
       "        text-align: right;\n",
       "    }\n",
       "</style>\n",
       "<table border=\"1\" class=\"dataframe\">\n",
       "  <thead>\n",
       "    <tr style=\"text-align: right;\">\n",
       "      <th></th>\n",
       "      <th>DATE_SUBMITTED</th>\n",
       "      <th>NPS_RATING</th>\n",
       "      <th>NPS_COMMENT</th>\n",
       "      <th>FEEDBACK</th>\n",
       "      <th>FEEDBACK_PROCESSED</th>\n",
       "      <th>HIGHEST_TOPIC</th>\n",
       "    </tr>\n",
       "  </thead>\n",
       "  <tbody>\n",
       "    <tr>\n",
       "      <th>3</th>\n",
       "      <td>2018-01-11</td>\n",
       "      <td>4.0</td>\n",
       "      <td>keine Lieferkosten</td>\n",
       "      <td>no delivery costs</td>\n",
       "      <td>no delivery costs</td>\n",
       "      <td>7</td>\n",
       "    </tr>\n",
       "    <tr>\n",
       "      <th>5</th>\n",
       "      <td>2018-01-11</td>\n",
       "      <td>10.0</td>\n",
       "      <td>Wenn mehr Artikel online gekauft werden kÃ¶nnten. Ich wÃ¼rde noch mehr kaufen :-)</td>\n",
       "      <td>If more items could be bought online. I would buy more :-)</td>\n",
       "      <td>if more items could be bought online i would buy more :-)</td>\n",
       "      <td>4</td>\n",
       "    </tr>\n",
       "    <tr>\n",
       "      <th>6</th>\n",
       "      <td>2018-01-11</td>\n",
       "      <td>9.0</td>\n",
       "      <td>die Ãbersichtlichkeit</td>\n",
       "      <td>the clarity</td>\n",
       "      <td>the clarity</td>\n",
       "      <td>1</td>\n",
       "    </tr>\n",
       "    <tr>\n",
       "      <th>11</th>\n",
       "      <td>2018-01-11</td>\n",
       "      <td>10.0</td>\n",
       "      <td>alles toll</td>\n",
       "      <td>All right</td>\n",
       "      <td>all right</td>\n",
       "      <td>5</td>\n",
       "    </tr>\n",
       "    <tr>\n",
       "      <th>13</th>\n",
       "      <td>2018-01-11</td>\n",
       "      <td>NaN</td>\n",
       "      <td>KÃ¼rzere lieferzeit</td>\n",
       "      <td>Shorter delivery time</td>\n",
       "      <td>shorter delivery time</td>\n",
       "      <td>9</td>\n",
       "    </tr>\n",
       "  </tbody>\n",
       "</table>\n",
       "</div>"
      ],
      "text/plain": [
       "   DATE_SUBMITTED  NPS_RATING  \\\n",
       "3      2018-01-11         4.0   \n",
       "5      2018-01-11        10.0   \n",
       "6      2018-01-11         9.0   \n",
       "11     2018-01-11        10.0   \n",
       "13     2018-01-11         NaN   \n",
       "\n",
       "                                                                          NPS_COMMENT  \\\n",
       "3                                                                  keine Lieferkosten   \n",
       "5   Wenn mehr Artikel online gekauft werden kÃ¶nnten. Ich wÃ¼rde noch mehr kaufen :-)   \n",
       "6                                                              die Ãbersichtlichkeit   \n",
       "11                                                                         alles toll   \n",
       "13                                                                KÃ¼rzere lieferzeit   \n",
       "\n",
       "                                                      FEEDBACK  \\\n",
       "3                                            no delivery costs   \n",
       "5   If more items could be bought online. I would buy more :-)   \n",
       "6                                                  the clarity   \n",
       "11                                                   All right   \n",
       "13                                       Shorter delivery time   \n",
       "\n",
       "                                           FEEDBACK_PROCESSED  HIGHEST_TOPIC  \n",
       "3                                           no delivery costs              7  \n",
       "5   if more items could be bought online i would buy more :-)              4  \n",
       "6                                                 the clarity              1  \n",
       "11                                                  all right              5  \n",
       "13                                      shorter delivery time              9  "
      ]
     },
     "execution_count": 42,
     "metadata": {},
     "output_type": "execute_result"
    }
   ],
   "source": [
    "topic_values = lda.transform(count_data)\n",
    "text_df1['HIGHEST_TOPIC'] = topic_values.argmax(axis=1)\n",
    "text_df1.head()"
   ]
  },
  {
   "cell_type": "markdown",
   "metadata": {},
   "source": [
    "### Finding topics with probability of more than 0.3 for each of the feedback and attaching it to the original dataframe. This is done since one feedback could have multiple topics disussed in it. "
   ]
  },
  {
   "cell_type": "code",
   "execution_count": 43,
   "metadata": {},
   "outputs": [],
   "source": [
    "text_df2 = text_df1.copy()"
   ]
  },
  {
   "cell_type": "code",
   "execution_count": 44,
   "metadata": {},
   "outputs": [
    {
     "data": {
      "text/html": [
       "<div>\n",
       "<style scoped>\n",
       "    .dataframe tbody tr th:only-of-type {\n",
       "        vertical-align: middle;\n",
       "    }\n",
       "\n",
       "    .dataframe tbody tr th {\n",
       "        vertical-align: top;\n",
       "    }\n",
       "\n",
       "    .dataframe thead th {\n",
       "        text-align: right;\n",
       "    }\n",
       "</style>\n",
       "<table border=\"1\" class=\"dataframe\">\n",
       "  <thead>\n",
       "    <tr style=\"text-align: right;\">\n",
       "      <th></th>\n",
       "      <th>DATE_SUBMITTED</th>\n",
       "      <th>NPS_RATING</th>\n",
       "      <th>NPS_COMMENT</th>\n",
       "      <th>FEEDBACK</th>\n",
       "      <th>FEEDBACK_PROCESSED</th>\n",
       "      <th>HIGHEST_TOPIC</th>\n",
       "    </tr>\n",
       "  </thead>\n",
       "  <tbody>\n",
       "    <tr>\n",
       "      <th>3</th>\n",
       "      <td>2018-01-11</td>\n",
       "      <td>4.0</td>\n",
       "      <td>keine Lieferkosten</td>\n",
       "      <td>no delivery costs</td>\n",
       "      <td>no delivery costs</td>\n",
       "      <td>7</td>\n",
       "    </tr>\n",
       "    <tr>\n",
       "      <th>5</th>\n",
       "      <td>2018-01-11</td>\n",
       "      <td>10.0</td>\n",
       "      <td>Wenn mehr Artikel online gekauft werden kÃ¶nnten. Ich wÃ¼rde noch mehr kaufen :-)</td>\n",
       "      <td>If more items could be bought online. I would buy more :-)</td>\n",
       "      <td>if more items could be bought online i would buy more :-)</td>\n",
       "      <td>4</td>\n",
       "    </tr>\n",
       "    <tr>\n",
       "      <th>6</th>\n",
       "      <td>2018-01-11</td>\n",
       "      <td>9.0</td>\n",
       "      <td>die Ãbersichtlichkeit</td>\n",
       "      <td>the clarity</td>\n",
       "      <td>the clarity</td>\n",
       "      <td>1</td>\n",
       "    </tr>\n",
       "    <tr>\n",
       "      <th>11</th>\n",
       "      <td>2018-01-11</td>\n",
       "      <td>10.0</td>\n",
       "      <td>alles toll</td>\n",
       "      <td>All right</td>\n",
       "      <td>all right</td>\n",
       "      <td>5</td>\n",
       "    </tr>\n",
       "    <tr>\n",
       "      <th>13</th>\n",
       "      <td>2018-01-11</td>\n",
       "      <td>NaN</td>\n",
       "      <td>KÃ¼rzere lieferzeit</td>\n",
       "      <td>Shorter delivery time</td>\n",
       "      <td>shorter delivery time</td>\n",
       "      <td>9</td>\n",
       "    </tr>\n",
       "  </tbody>\n",
       "</table>\n",
       "</div>"
      ],
      "text/plain": [
       "   DATE_SUBMITTED  NPS_RATING  \\\n",
       "3      2018-01-11         4.0   \n",
       "5      2018-01-11        10.0   \n",
       "6      2018-01-11         9.0   \n",
       "11     2018-01-11        10.0   \n",
       "13     2018-01-11         NaN   \n",
       "\n",
       "                                                                          NPS_COMMENT  \\\n",
       "3                                                                  keine Lieferkosten   \n",
       "5   Wenn mehr Artikel online gekauft werden kÃ¶nnten. Ich wÃ¼rde noch mehr kaufen :-)   \n",
       "6                                                              die Ãbersichtlichkeit   \n",
       "11                                                                         alles toll   \n",
       "13                                                                KÃ¼rzere lieferzeit   \n",
       "\n",
       "                                                      FEEDBACK  \\\n",
       "3                                            no delivery costs   \n",
       "5   If more items could be bought online. I would buy more :-)   \n",
       "6                                                  the clarity   \n",
       "11                                                   All right   \n",
       "13                                       Shorter delivery time   \n",
       "\n",
       "                                           FEEDBACK_PROCESSED  HIGHEST_TOPIC  \n",
       "3                                           no delivery costs              7  \n",
       "5   if more items could be bought online i would buy more :-)              4  \n",
       "6                                                 the clarity              1  \n",
       "11                                                  all right              5  \n",
       "13                                      shorter delivery time              9  "
      ]
     },
     "execution_count": 44,
     "metadata": {},
     "output_type": "execute_result"
    }
   ],
   "source": [
    "text_df2.head()"
   ]
  },
  {
   "cell_type": "code",
   "execution_count": 45,
   "metadata": {},
   "outputs": [],
   "source": [
    "text_df2 = text_df2.reset_index()"
   ]
  },
  {
   "cell_type": "code",
   "execution_count": 46,
   "metadata": {},
   "outputs": [],
   "source": [
    "text_df2['ROW_NO'] = text_df2.index + 0"
   ]
  },
  {
   "cell_type": "code",
   "execution_count": 47,
   "metadata": {},
   "outputs": [],
   "source": [
    "df_topicmodel = pd.DataFrame(np.argwhere(topic_values>0.3))"
   ]
  },
  {
   "cell_type": "code",
   "execution_count": 48,
   "metadata": {},
   "outputs": [
    {
     "data": {
      "text/html": [
       "<div>\n",
       "<style scoped>\n",
       "    .dataframe tbody tr th:only-of-type {\n",
       "        vertical-align: middle;\n",
       "    }\n",
       "\n",
       "    .dataframe tbody tr th {\n",
       "        vertical-align: top;\n",
       "    }\n",
       "\n",
       "    .dataframe thead th {\n",
       "        text-align: right;\n",
       "    }\n",
       "</style>\n",
       "<table border=\"1\" class=\"dataframe\">\n",
       "  <thead>\n",
       "    <tr style=\"text-align: right;\">\n",
       "      <th></th>\n",
       "      <th>0</th>\n",
       "      <th>1</th>\n",
       "    </tr>\n",
       "  </thead>\n",
       "  <tbody>\n",
       "    <tr>\n",
       "      <th>0</th>\n",
       "      <td>0</td>\n",
       "      <td>7</td>\n",
       "    </tr>\n",
       "    <tr>\n",
       "      <th>1</th>\n",
       "      <td>1</td>\n",
       "      <td>4</td>\n",
       "    </tr>\n",
       "    <tr>\n",
       "      <th>2</th>\n",
       "      <td>2</td>\n",
       "      <td>1</td>\n",
       "    </tr>\n",
       "    <tr>\n",
       "      <th>3</th>\n",
       "      <td>3</td>\n",
       "      <td>5</td>\n",
       "    </tr>\n",
       "    <tr>\n",
       "      <th>4</th>\n",
       "      <td>4</td>\n",
       "      <td>9</td>\n",
       "    </tr>\n",
       "  </tbody>\n",
       "</table>\n",
       "</div>"
      ],
      "text/plain": [
       "   0  1\n",
       "0  0  7\n",
       "1  1  4\n",
       "2  2  1\n",
       "3  3  5\n",
       "4  4  9"
      ]
     },
     "execution_count": 48,
     "metadata": {},
     "output_type": "execute_result"
    }
   ],
   "source": [
    "df_topicmodel.head(5)"
   ]
  },
  {
   "cell_type": "code",
   "execution_count": 49,
   "metadata": {},
   "outputs": [],
   "source": [
    "df_topicmodel.rename(columns={0:'ROW_NO', 1:'TOPICS'}, inplace=True)"
   ]
  },
  {
   "cell_type": "code",
   "execution_count": 50,
   "metadata": {},
   "outputs": [],
   "source": [
    "text_df3 = pd.merge(text_df2, df_topicmodel, on='ROW_NO', how='left')"
   ]
  },
  {
   "cell_type": "code",
   "execution_count": 51,
   "metadata": {},
   "outputs": [
    {
     "data": {
      "text/html": [
       "<div>\n",
       "<style scoped>\n",
       "    .dataframe tbody tr th:only-of-type {\n",
       "        vertical-align: middle;\n",
       "    }\n",
       "\n",
       "    .dataframe tbody tr th {\n",
       "        vertical-align: top;\n",
       "    }\n",
       "\n",
       "    .dataframe thead th {\n",
       "        text-align: right;\n",
       "    }\n",
       "</style>\n",
       "<table border=\"1\" class=\"dataframe\">\n",
       "  <thead>\n",
       "    <tr style=\"text-align: right;\">\n",
       "      <th></th>\n",
       "      <th>index</th>\n",
       "      <th>DATE_SUBMITTED</th>\n",
       "      <th>NPS_RATING</th>\n",
       "      <th>NPS_COMMENT</th>\n",
       "      <th>FEEDBACK</th>\n",
       "      <th>FEEDBACK_PROCESSED</th>\n",
       "      <th>HIGHEST_TOPIC</th>\n",
       "      <th>ROW_NO</th>\n",
       "      <th>TOPICS</th>\n",
       "    </tr>\n",
       "  </thead>\n",
       "  <tbody>\n",
       "    <tr>\n",
       "      <th>0</th>\n",
       "      <td>3</td>\n",
       "      <td>2018-01-11</td>\n",
       "      <td>4.0</td>\n",
       "      <td>keine Lieferkosten</td>\n",
       "      <td>no delivery costs</td>\n",
       "      <td>no delivery costs</td>\n",
       "      <td>7</td>\n",
       "      <td>0</td>\n",
       "      <td>7.0</td>\n",
       "    </tr>\n",
       "    <tr>\n",
       "      <th>1</th>\n",
       "      <td>5</td>\n",
       "      <td>2018-01-11</td>\n",
       "      <td>10.0</td>\n",
       "      <td>Wenn mehr Artikel online gekauft werden kÃ¶nnten. Ich wÃ¼rde noch mehr kaufen :-)</td>\n",
       "      <td>If more items could be bought online. I would buy more :-)</td>\n",
       "      <td>if more items could be bought online i would buy more :-)</td>\n",
       "      <td>4</td>\n",
       "      <td>1</td>\n",
       "      <td>4.0</td>\n",
       "    </tr>\n",
       "    <tr>\n",
       "      <th>2</th>\n",
       "      <td>6</td>\n",
       "      <td>2018-01-11</td>\n",
       "      <td>9.0</td>\n",
       "      <td>die Ãbersichtlichkeit</td>\n",
       "      <td>the clarity</td>\n",
       "      <td>the clarity</td>\n",
       "      <td>1</td>\n",
       "      <td>2</td>\n",
       "      <td>1.0</td>\n",
       "    </tr>\n",
       "    <tr>\n",
       "      <th>3</th>\n",
       "      <td>11</td>\n",
       "      <td>2018-01-11</td>\n",
       "      <td>10.0</td>\n",
       "      <td>alles toll</td>\n",
       "      <td>All right</td>\n",
       "      <td>all right</td>\n",
       "      <td>5</td>\n",
       "      <td>3</td>\n",
       "      <td>5.0</td>\n",
       "    </tr>\n",
       "    <tr>\n",
       "      <th>4</th>\n",
       "      <td>13</td>\n",
       "      <td>2018-01-11</td>\n",
       "      <td>NaN</td>\n",
       "      <td>KÃ¼rzere lieferzeit</td>\n",
       "      <td>Shorter delivery time</td>\n",
       "      <td>shorter delivery time</td>\n",
       "      <td>9</td>\n",
       "      <td>4</td>\n",
       "      <td>9.0</td>\n",
       "    </tr>\n",
       "  </tbody>\n",
       "</table>\n",
       "</div>"
      ],
      "text/plain": [
       "   index DATE_SUBMITTED  NPS_RATING  \\\n",
       "0      3     2018-01-11         4.0   \n",
       "1      5     2018-01-11        10.0   \n",
       "2      6     2018-01-11         9.0   \n",
       "3     11     2018-01-11        10.0   \n",
       "4     13     2018-01-11         NaN   \n",
       "\n",
       "                                                                         NPS_COMMENT  \\\n",
       "0                                                                 keine Lieferkosten   \n",
       "1  Wenn mehr Artikel online gekauft werden kÃ¶nnten. Ich wÃ¼rde noch mehr kaufen :-)   \n",
       "2                                                             die Ãbersichtlichkeit   \n",
       "3                                                                         alles toll   \n",
       "4                                                                KÃ¼rzere lieferzeit   \n",
       "\n",
       "                                                     FEEDBACK  \\\n",
       "0                                           no delivery costs   \n",
       "1  If more items could be bought online. I would buy more :-)   \n",
       "2                                                 the clarity   \n",
       "3                                                   All right   \n",
       "4                                       Shorter delivery time   \n",
       "\n",
       "                                          FEEDBACK_PROCESSED  HIGHEST_TOPIC  \\\n",
       "0                                          no delivery costs              7   \n",
       "1  if more items could be bought online i would buy more :-)              4   \n",
       "2                                                the clarity              1   \n",
       "3                                                  all right              5   \n",
       "4                                      shorter delivery time              9   \n",
       "\n",
       "   ROW_NO  TOPICS  \n",
       "0       0     7.0  \n",
       "1       1     4.0  \n",
       "2       2     1.0  \n",
       "3       3     5.0  \n",
       "4       4     9.0  "
      ]
     },
     "execution_count": 51,
     "metadata": {},
     "output_type": "execute_result"
    }
   ],
   "source": [
    "text_df3.head()"
   ]
  },
  {
   "cell_type": "code",
   "execution_count": 52,
   "metadata": {},
   "outputs": [],
   "source": [
    "text_df3 = text_df3.drop('index', axis=1)"
   ]
  },
  {
   "cell_type": "code",
   "execution_count": 155,
   "metadata": {},
   "outputs": [],
   "source": [
    "# Defining names for each of the topics\n",
    "text_df3.loc[text_df3['TOPICS'] == 0.0, 'TOPICS_NAME'] = 'abc'\n",
    "text_df3.loc[text_df3['TOPICS'] == 1.0, 'TOPICS_NAME'] = 'abc'\n",
    "text_df3.loc[text_df3['TOPICS'] == 2.0, 'TOPICS_NAME'] = 'abc'\n",
    "text_df3.loc[text_df3['TOPICS'] == 3.0, 'TOPICS_NAME'] = 'abc'\n",
    "text_df3.loc[text_df3['TOPICS'] == 4.0, 'TOPICS_NAME'] = 'abc'\n",
    "text_df3.loc[text_df3['TOPICS'] == 5.0, 'TOPICS_NAME'] = 'abc'\n",
    "text_df3.loc[text_df3['TOPICS'] == 6.0, 'TOPICS_NAME'] = 'abc'\n",
    "text_df3.loc[text_df3['TOPICS'] == 7.0, 'TOPICS_NAME'] = 'abc'\n",
    "text_df3.loc[text_df3['TOPICS'] == 8.0, 'TOPICS_NAME'] = 'abc'\n",
    "text_df3.loc[text_df3['TOPICS'] == 9.0, 'TOPICS_NAME'] = 'abc'"
   ]
  }
 ],
 "metadata": {
  "kernelspec": {
   "display_name": "Python 3",
   "language": "python",
   "name": "python3"
  },
  "language_info": {
   "codemirror_mode": {
    "name": "ipython",
    "version": 3
   },
   "file_extension": ".py",
   "mimetype": "text/x-python",
   "name": "python",
   "nbconvert_exporter": "python",
   "pygments_lexer": "ipython3",
   "version": "3.7.0"
  }
 },
 "nbformat": 4,
 "nbformat_minor": 2
}
